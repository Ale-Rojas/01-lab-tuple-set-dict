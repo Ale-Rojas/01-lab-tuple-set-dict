{
 "cells": [
  {
   "cell_type": "markdown",
   "metadata": {},
   "source": [
    "## Challenge 2: Sets\n",
    "\n",
    "There are a lot to learn about Python Sets and the information presented in the lesson is limited due to its length. To learn Python Sets in depth you are strongly encouraged to review the W3Schools tutorial on [Python Sets Examples and Methods](https://www.w3schools.com/python/python_sets.asp) before you work on this lab. Some difficult questions in this lab have their solutions in the W3Schools tutorial.\n",
    "\n",
    "#### First, import the Python `random` libary"
   ]
  },
  {
   "cell_type": "code",
   "execution_count": 1,
   "metadata": {},
   "outputs": [],
   "source": [
    "import random"
   ]
  },
  {
   "cell_type": "markdown",
   "metadata": {},
   "source": [
    "#### In the cell below, create a list named `sample_list_1` with 80 random values. \n",
    "\n",
    "Requirements:\n",
    "\n",
    "* Each value is an integer falling between 0 and 100.\n",
    "* Each value in the list is unique.\n",
    "\n",
    "Print `sample_list_1` to review its values\n",
    "\n",
    "*Hint: use `random.sample` ([reference](https://docs.python.org/3/library/random.html#random.sample)).*"
   ]
  },
  {
   "cell_type": "code",
   "execution_count": 2,
   "metadata": {},
   "outputs": [
    {
     "data": {
      "text/plain": [
       "[99,\n",
       " 55,\n",
       " 85,\n",
       " 21,\n",
       " 72,\n",
       " 47,\n",
       " 23,\n",
       " 0,\n",
       " 31,\n",
       " 28,\n",
       " 71,\n",
       " 66,\n",
       " 32,\n",
       " 76,\n",
       " 39,\n",
       " 2,\n",
       " 37,\n",
       " 24,\n",
       " 94,\n",
       " 29,\n",
       " 40,\n",
       " 11,\n",
       " 43,\n",
       " 69,\n",
       " 4,\n",
       " 73,\n",
       " 49,\n",
       " 61,\n",
       " 60,\n",
       " 90,\n",
       " 20,\n",
       " 57,\n",
       " 27,\n",
       " 63,\n",
       " 48,\n",
       " 17,\n",
       " 18,\n",
       " 79,\n",
       " 44,\n",
       " 13,\n",
       " 46,\n",
       " 41,\n",
       " 97,\n",
       " 89,\n",
       " 30,\n",
       " 42,\n",
       " 91,\n",
       " 50,\n",
       " 67,\n",
       " 36,\n",
       " 3,\n",
       " 52,\n",
       " 100,\n",
       " 80,\n",
       " 93,\n",
       " 75,\n",
       " 14,\n",
       " 22,\n",
       " 6,\n",
       " 10,\n",
       " 26,\n",
       " 51,\n",
       " 1,\n",
       " 54,\n",
       " 83,\n",
       " 9,\n",
       " 96,\n",
       " 74,\n",
       " 25,\n",
       " 59,\n",
       " 15,\n",
       " 56,\n",
       " 92,\n",
       " 7,\n",
       " 87,\n",
       " 33,\n",
       " 95,\n",
       " 35,\n",
       " 98,\n",
       " 70]"
      ]
     },
     "execution_count": 2,
     "metadata": {},
     "output_type": "execute_result"
    }
   ],
   "source": [
    "list1 = [n for n in range(101)]\n",
    "sample_list_1 = random.sample(list1,80)\n",
    "sample_list_1"
   ]
  },
  {
   "cell_type": "markdown",
   "metadata": {},
   "source": [
    "#### Convert `sample_list_1` to a set called `set1`. Print the length of the set. Is its length still 80?"
   ]
  },
  {
   "cell_type": "code",
   "execution_count": 3,
   "metadata": {},
   "outputs": [
    {
     "data": {
      "text/plain": [
       "80"
      ]
     },
     "execution_count": 3,
     "metadata": {},
     "output_type": "execute_result"
    }
   ],
   "source": [
    "set1 = set(sample_list_1)\n",
    "len(set1)"
   ]
  },
  {
   "cell_type": "markdown",
   "metadata": {},
   "source": [
    "Yes, it is still 80 because the requirement for creating sample_list_1 was that each value in it should be unique. So if we use set(), it would remove duplicate elements of the list, but we already didn't have them."
   ]
  },
  {
   "cell_type": "markdown",
   "metadata": {},
   "source": [
    "#### Create another list named `sample_list_2` with 80 random values.\n",
    "\n",
    "Requirements:\n",
    "\n",
    "* Each value is an integer falling between 0 and 100.\n",
    "* The values in the list don't have to be unique.\n",
    "\n",
    "*Hint: Use a FOR loop.*"
   ]
  },
  {
   "cell_type": "code",
   "execution_count": 4,
   "metadata": {},
   "outputs": [
    {
     "data": {
      "text/plain": [
       "[46,\n",
       " 16,\n",
       " 71,\n",
       " 54,\n",
       " 8,\n",
       " 34,\n",
       " 3,\n",
       " 50,\n",
       " 81,\n",
       " 72,\n",
       " 36,\n",
       " 79,\n",
       " 100,\n",
       " 42,\n",
       " 80,\n",
       " 92,\n",
       " 93,\n",
       " 97,\n",
       " 13,\n",
       " 91,\n",
       " 4,\n",
       " 60,\n",
       " 89,\n",
       " 48,\n",
       " 38,\n",
       " 94,\n",
       " 87,\n",
       " 40,\n",
       " 96,\n",
       " 36,\n",
       " 65,\n",
       " 62,\n",
       " 42,\n",
       " 76,\n",
       " 21,\n",
       " 38,\n",
       " 12,\n",
       " 58,\n",
       " 99,\n",
       " 17,\n",
       " 61,\n",
       " 10,\n",
       " 14,\n",
       " 71,\n",
       " 63,\n",
       " 71,\n",
       " 52,\n",
       " 90,\n",
       " 96,\n",
       " 25,\n",
       " 59,\n",
       " 21,\n",
       " 53,\n",
       " 49,\n",
       " 61,\n",
       " 55,\n",
       " 29,\n",
       " 17,\n",
       " 84,\n",
       " 11,\n",
       " 31,\n",
       " 45,\n",
       " 80,\n",
       " 41,\n",
       " 58,\n",
       " 45,\n",
       " 51,\n",
       " 15,\n",
       " 42,\n",
       " 24,\n",
       " 52,\n",
       " 53,\n",
       " 49,\n",
       " 62,\n",
       " 75,\n",
       " 12,\n",
       " 34,\n",
       " 19,\n",
       " 86,\n",
       " 77]"
      ]
     },
     "execution_count": 4,
     "metadata": {},
     "output_type": "execute_result"
    }
   ],
   "source": [
    "sample_list_2a = [random.sample(list1,1)[0] for i in range(80)] #Con list comprenhension\n",
    "sample_list_2a"
   ]
  },
  {
   "cell_type": "code",
   "execution_count": 5,
   "metadata": {},
   "outputs": [
    {
     "data": {
      "text/plain": [
       "[46,\n",
       " 3,\n",
       " 27,\n",
       " 100,\n",
       " 56,\n",
       " 84,\n",
       " 69,\n",
       " 25,\n",
       " 89,\n",
       " 76,\n",
       " 49,\n",
       " 2,\n",
       " 26,\n",
       " 10,\n",
       " 71,\n",
       " 90,\n",
       " 82,\n",
       " 0,\n",
       " 93,\n",
       " 54,\n",
       " 17,\n",
       " 37,\n",
       " 45,\n",
       " 43,\n",
       " 15,\n",
       " 5,\n",
       " 73,\n",
       " 3,\n",
       " 44,\n",
       " 35,\n",
       " 94,\n",
       " 22,\n",
       " 18,\n",
       " 46,\n",
       " 74,\n",
       " 21,\n",
       " 30,\n",
       " 10,\n",
       " 12,\n",
       " 30,\n",
       " 55,\n",
       " 82,\n",
       " 88,\n",
       " 79,\n",
       " 95,\n",
       " 50,\n",
       " 42,\n",
       " 49,\n",
       " 97,\n",
       " 58,\n",
       " 91,\n",
       " 95,\n",
       " 67,\n",
       " 48,\n",
       " 88,\n",
       " 69,\n",
       " 1,\n",
       " 67,\n",
       " 7,\n",
       " 44,\n",
       " 32,\n",
       " 48,\n",
       " 93,\n",
       " 88,\n",
       " 56,\n",
       " 15,\n",
       " 77,\n",
       " 11,\n",
       " 39,\n",
       " 99,\n",
       " 15,\n",
       " 96,\n",
       " 26,\n",
       " 13,\n",
       " 42,\n",
       " 66,\n",
       " 73,\n",
       " 57,\n",
       " 10,\n",
       " 100]"
      ]
     },
     "execution_count": 5,
     "metadata": {},
     "output_type": "execute_result"
    }
   ],
   "source": [
    "sample_list_2b = [] #Sin list comprenhension\n",
    "for i in range(80):\n",
    "    sample_list_2b.append(random.sample(list1,1)[0])\n",
    "sample_list_2b"
   ]
  },
  {
   "cell_type": "markdown",
   "metadata": {},
   "source": [
    "#### Convert `sample_list_2` to a set called `set2`. Print the length of the set. Is its length still 80?"
   ]
  },
  {
   "cell_type": "code",
   "execution_count": 6,
   "metadata": {},
   "outputs": [
    {
     "data": {
      "text/plain": [
       "61"
      ]
     },
     "execution_count": 6,
     "metadata": {},
     "output_type": "execute_result"
    }
   ],
   "source": [
    "set2 = set(sample_list_2a)\n",
    "len(set2)"
   ]
  },
  {
   "cell_type": "markdown",
   "metadata": {},
   "source": [
    "No, the length has changed because now some elements are duplicated."
   ]
  },
  {
   "cell_type": "markdown",
   "metadata": {},
   "source": [
    "#### Identify the elements present in `set1` but not in `set2`. Assign the elements to a new set named `set3`."
   ]
  },
  {
   "cell_type": "code",
   "execution_count": 7,
   "metadata": {},
   "outputs": [
    {
     "data": {
      "text/plain": [
       "{0,\n",
       " 1,\n",
       " 2,\n",
       " 6,\n",
       " 7,\n",
       " 9,\n",
       " 18,\n",
       " 20,\n",
       " 22,\n",
       " 23,\n",
       " 26,\n",
       " 27,\n",
       " 28,\n",
       " 30,\n",
       " 32,\n",
       " 33,\n",
       " 35,\n",
       " 37,\n",
       " 39,\n",
       " 43,\n",
       " 44,\n",
       " 47,\n",
       " 56,\n",
       " 57,\n",
       " 66,\n",
       " 67,\n",
       " 69,\n",
       " 70,\n",
       " 73,\n",
       " 74,\n",
       " 83,\n",
       " 85,\n",
       " 95,\n",
       " 98}"
      ]
     },
     "execution_count": 7,
     "metadata": {},
     "output_type": "execute_result"
    }
   ],
   "source": [
    "set3 = set([elements for elements in set1 if elements not in set2])\n",
    "set3"
   ]
  },
  {
   "cell_type": "markdown",
   "metadata": {},
   "source": [
    "#### Identify the elements present in `set2` but not in `set1`. Assign the elements to a new set named `set4`."
   ]
  },
  {
   "cell_type": "code",
   "execution_count": 8,
   "metadata": {},
   "outputs": [
    {
     "data": {
      "text/plain": [
       "{8, 12, 16, 19, 34, 38, 45, 53, 58, 62, 65, 77, 81, 84, 86}"
      ]
     },
     "execution_count": 8,
     "metadata": {},
     "output_type": "execute_result"
    }
   ],
   "source": [
    "set4 = set([elements for elements in set2 if elements not in set1])\n",
    "set4"
   ]
  },
  {
   "cell_type": "markdown",
   "metadata": {},
   "source": [
    "#### Now Identify the elements shared between `set1` and `set2`. Assign the elements to a new set named `set5`."
   ]
  },
  {
   "cell_type": "code",
   "execution_count": 9,
   "metadata": {},
   "outputs": [
    {
     "data": {
      "text/plain": [
       "{3,\n",
       " 4,\n",
       " 10,\n",
       " 11,\n",
       " 13,\n",
       " 14,\n",
       " 15,\n",
       " 17,\n",
       " 21,\n",
       " 24,\n",
       " 25,\n",
       " 29,\n",
       " 31,\n",
       " 36,\n",
       " 40,\n",
       " 41,\n",
       " 42,\n",
       " 46,\n",
       " 48,\n",
       " 49,\n",
       " 50,\n",
       " 51,\n",
       " 52,\n",
       " 54,\n",
       " 55,\n",
       " 59,\n",
       " 60,\n",
       " 61,\n",
       " 63,\n",
       " 71,\n",
       " 72,\n",
       " 75,\n",
       " 76,\n",
       " 79,\n",
       " 80,\n",
       " 87,\n",
       " 89,\n",
       " 90,\n",
       " 91,\n",
       " 92,\n",
       " 93,\n",
       " 94,\n",
       " 96,\n",
       " 97,\n",
       " 99,\n",
       " 100}"
      ]
     },
     "execution_count": 9,
     "metadata": {},
     "output_type": "execute_result"
    }
   ],
   "source": [
    "set5 = set([elements for elements in set1 if elements in set2])\n",
    "set5"
   ]
  },
  {
   "cell_type": "markdown",
   "metadata": {},
   "source": [
    "#### What is the relationship among the following values:\n",
    "\n",
    "* len(set1)\n",
    "* len(set2)\n",
    "* len(set3)\n",
    "* len(set4)\n",
    "* len(set5)\n",
    "\n",
    "Use a math formular to represent that relationship. Test your formular with Python code."
   ]
  },
  {
   "cell_type": "code",
   "execution_count": 10,
   "metadata": {},
   "outputs": [
    {
     "name": "stdout",
     "output_type": "stream",
     "text": [
      "True\n",
      "True\n",
      "True\n",
      "True\n"
     ]
    }
   ],
   "source": [
    "print ( len(set1) is len(set3) + len(set5) )\n",
    "print ( len(set2) is len(set4) + len(set5) )\n",
    "print ( len(set3) is len(set1) - len(set5) )\n",
    "print ( len(set4) is len(set2) - len(set5) )"
   ]
  },
  {
   "cell_type": "markdown",
   "metadata": {},
   "source": [
    "#### Create an empty set called `set6`."
   ]
  },
  {
   "cell_type": "code",
   "execution_count": 11,
   "metadata": {},
   "outputs": [],
   "source": [
    "set6 = set()"
   ]
  },
  {
   "cell_type": "markdown",
   "metadata": {},
   "source": [
    "#### Add `set3` and `set5` to `set6` using the Python Set `update` method."
   ]
  },
  {
   "cell_type": "code",
   "execution_count": 12,
   "metadata": {},
   "outputs": [
    {
     "data": {
      "text/plain": [
       "{0,\n",
       " 1,\n",
       " 2,\n",
       " 3,\n",
       " 4,\n",
       " 6,\n",
       " 7,\n",
       " 9,\n",
       " 10,\n",
       " 11,\n",
       " 13,\n",
       " 14,\n",
       " 15,\n",
       " 17,\n",
       " 18,\n",
       " 20,\n",
       " 21,\n",
       " 22,\n",
       " 23,\n",
       " 24,\n",
       " 25,\n",
       " 26,\n",
       " 27,\n",
       " 28,\n",
       " 29,\n",
       " 30,\n",
       " 31,\n",
       " 32,\n",
       " 33,\n",
       " 35,\n",
       " 36,\n",
       " 37,\n",
       " 39,\n",
       " 40,\n",
       " 41,\n",
       " 42,\n",
       " 43,\n",
       " 44,\n",
       " 46,\n",
       " 47,\n",
       " 48,\n",
       " 49,\n",
       " 50,\n",
       " 51,\n",
       " 52,\n",
       " 54,\n",
       " 55,\n",
       " 56,\n",
       " 57,\n",
       " 59,\n",
       " 60,\n",
       " 61,\n",
       " 63,\n",
       " 66,\n",
       " 67,\n",
       " 69,\n",
       " 70,\n",
       " 71,\n",
       " 72,\n",
       " 73,\n",
       " 74,\n",
       " 75,\n",
       " 76,\n",
       " 79,\n",
       " 80,\n",
       " 83,\n",
       " 85,\n",
       " 87,\n",
       " 89,\n",
       " 90,\n",
       " 91,\n",
       " 92,\n",
       " 93,\n",
       " 94,\n",
       " 95,\n",
       " 96,\n",
       " 97,\n",
       " 98,\n",
       " 99,\n",
       " 100}"
      ]
     },
     "execution_count": 12,
     "metadata": {},
     "output_type": "execute_result"
    }
   ],
   "source": [
    "set6.update(set3,set5)\n",
    "set6"
   ]
  },
  {
   "cell_type": "markdown",
   "metadata": {},
   "source": [
    "#### Check if `set1` and `set6` are equal."
   ]
  },
  {
   "cell_type": "code",
   "execution_count": 13,
   "metadata": {},
   "outputs": [
    {
     "data": {
      "text/plain": [
       "True"
      ]
     },
     "execution_count": 13,
     "metadata": {},
     "output_type": "execute_result"
    }
   ],
   "source": [
    "set1 == set6"
   ]
  },
  {
   "cell_type": "markdown",
   "metadata": {},
   "source": [
    "#### Check if `set1` contains `set2` using the Python Set `issubset` method. Then check if `set1` contains `set3`.*"
   ]
  },
  {
   "cell_type": "code",
   "execution_count": 14,
   "metadata": {},
   "outputs": [
    {
     "data": {
      "text/plain": [
       "False"
      ]
     },
     "execution_count": 14,
     "metadata": {},
     "output_type": "execute_result"
    }
   ],
   "source": [
    "set2.issubset(set1)"
   ]
  },
  {
   "cell_type": "code",
   "execution_count": 15,
   "metadata": {},
   "outputs": [
    {
     "data": {
      "text/plain": [
       "True"
      ]
     },
     "execution_count": 15,
     "metadata": {},
     "output_type": "execute_result"
    }
   ],
   "source": [
    "set3.issubset(set1)"
   ]
  },
  {
   "cell_type": "markdown",
   "metadata": {},
   "source": [
    "#### Using the Python Set `union` method, aggregate `set3`, `set4`, and `set5`. Then aggregate `set1` and `set2`. \n",
    "\n",
    "#### Check if the aggregated values are equal."
   ]
  },
  {
   "cell_type": "code",
   "execution_count": 16,
   "metadata": {},
   "outputs": [
    {
     "data": {
      "text/plain": [
       "True"
      ]
     },
     "execution_count": 16,
     "metadata": {},
     "output_type": "execute_result"
    }
   ],
   "source": [
    "set3.union(set4,set5) == set1.union(set2)"
   ]
  },
  {
   "cell_type": "markdown",
   "metadata": {},
   "source": [
    "#### Using the `pop` method, remove the first element from `set1`."
   ]
  },
  {
   "cell_type": "code",
   "execution_count": 17,
   "metadata": {},
   "outputs": [
    {
     "data": {
      "text/plain": [
       "0"
      ]
     },
     "execution_count": 17,
     "metadata": {},
     "output_type": "execute_result"
    }
   ],
   "source": [
    "set1.pop()"
   ]
  },
  {
   "cell_type": "markdown",
   "metadata": {},
   "source": [
    "#### Remove every element in the following list from `set1` if they are present in the set. Print the remaining elements.\n",
    "\n",
    "```\n",
    "list_to_remove = [1, 9, 11, 19, 21, 29, 31, 39, 41, 49, 51, 59, 61, 69, 71, 79, 81, 89, 91, 99]\n",
    "```"
   ]
  },
  {
   "cell_type": "code",
   "execution_count": 18,
   "metadata": {},
   "outputs": [
    {
     "data": {
      "text/plain": [
       "{2,\n",
       " 3,\n",
       " 4,\n",
       " 6,\n",
       " 7,\n",
       " 10,\n",
       " 13,\n",
       " 14,\n",
       " 15,\n",
       " 17,\n",
       " 18,\n",
       " 20,\n",
       " 22,\n",
       " 23,\n",
       " 24,\n",
       " 25,\n",
       " 26,\n",
       " 27,\n",
       " 28,\n",
       " 30,\n",
       " 32,\n",
       " 33,\n",
       " 35,\n",
       " 36,\n",
       " 37,\n",
       " 40,\n",
       " 42,\n",
       " 43,\n",
       " 44,\n",
       " 46,\n",
       " 47,\n",
       " 48,\n",
       " 50,\n",
       " 52,\n",
       " 54,\n",
       " 55,\n",
       " 56,\n",
       " 57,\n",
       " 60,\n",
       " 63,\n",
       " 66,\n",
       " 67,\n",
       " 70,\n",
       " 72,\n",
       " 73,\n",
       " 74,\n",
       " 75,\n",
       " 76,\n",
       " 80,\n",
       " 83,\n",
       " 85,\n",
       " 87,\n",
       " 90,\n",
       " 92,\n",
       " 93,\n",
       " 94,\n",
       " 95,\n",
       " 96,\n",
       " 97,\n",
       " 98,\n",
       " 100}"
      ]
     },
     "execution_count": 18,
     "metadata": {},
     "output_type": "execute_result"
    }
   ],
   "source": [
    "list_to_remove = [1, 9, 11, 19, 21, 29, 31, 39, 41, 49, 51, 59, 61, 69, 71, 79, 81, 89, 91, 99]\n",
    "nuevo_set = [element for element in list(set1) if element not in list_to_remove]\n",
    "set(nuevo_set)"
   ]
  },
  {
   "cell_type": "code",
   "execution_count": null,
   "metadata": {},
   "outputs": [],
   "source": []
  }
 ],
 "metadata": {
  "kernelspec": {
   "display_name": "Python 3",
   "language": "python",
   "name": "python3"
  },
  "language_info": {
   "codemirror_mode": {
    "name": "ipython",
    "version": 3
   },
   "file_extension": ".py",
   "mimetype": "text/x-python",
   "name": "python",
   "nbconvert_exporter": "python",
   "pygments_lexer": "ipython3",
   "version": "3.8.10"
  }
 },
 "nbformat": 4,
 "nbformat_minor": 2
}
